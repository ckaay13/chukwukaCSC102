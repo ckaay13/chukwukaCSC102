{
 "cells": [
  {
   "cell_type": "markdown",
   "metadata": {},
   "source": [
    "# CHUKWUKA AKWIWU\n",
    "# 20120612204\n",
    "# @chuksyakwiwu@yahoo.com\n",
    "\n",
    "\n"
   ]
  },
  {
   "cell_type": "code",
   "execution_count": null,
   "metadata": {},
   "outputs": [],
   "source": [
    "# Exercise III\n",
    "\n",
    "# A python program that will return true if two given integer values are equal or their sum or difference is equals to 5"
   ]
  },
  {
   "cell_type": "code",
   "execution_count": null,
   "metadata": {},
   "outputs": [],
   "source": [
    "a = int(input(\"a is equals to :\"))\n",
    "b = int(input(\"b is equals to :\"))\n",
    "if a == b:\n",
    "    print(\"true\")\n",
    "    \n",
    "elif a + b == 5:\n",
    "    print(\"true\")\n",
    "    \n",
    "elif a - b == 5:\n",
    "    print(\"true\")\n",
    "    \n",
    "else:\n",
    "    print(\"false\")\n"
   ]
  },
  {
   "cell_type": "code",
   "execution_count": null,
   "metadata": {},
   "outputs": [],
   "source": [
    "# Exercise II\n",
    "\n",
    "# A Python program to calculate the sum of three given numbers, if the values are equal the return thrice of their sum"
   ]
  },
  {
   "cell_type": "markdown",
   "metadata": {},
   "source": [
    "![2021-04-16.png](attachment:2021-04-16.png)"
   ]
  },
  {
   "cell_type": "code",
   "execution_count": 1,
   "metadata": {},
   "outputs": [
    {
     "name": "stdout",
     "output_type": "stream",
     "text": [
      "c equals to : 5\n",
      "d equals to : 5\n",
      "e equals to : 5\n",
      "45\n"
     ]
    }
   ],
   "source": [
    "\n",
    "c = int(input(\"c equals to : \"))\n",
    "d = int(input(\"d equals to : \"))\n",
    "e = int(input(\"e equals to : \"))\n",
    "\n",
    "if c == d == e:\n",
    "    print((c + d + e)*3)\n",
    "    \n",
    "else:\n",
    "    print(c + d + e)"
   ]
  },
  {
   "cell_type": "code",
   "execution_count": null,
   "metadata": {},
   "outputs": [],
   "source": []
  }
 ],
 "metadata": {
  "kernelspec": {
   "display_name": "Python 3",
   "language": "python",
   "name": "python3"
  },
  "language_info": {
   "codemirror_mode": {
    "name": "ipython",
    "version": 3
   },
   "file_extension": ".py",
   "mimetype": "text/x-python",
   "name": "python",
   "nbconvert_exporter": "python",
   "pygments_lexer": "ipython3",
   "version": "3.8.5"
  }
 },
 "nbformat": 4,
 "nbformat_minor": 4
}
